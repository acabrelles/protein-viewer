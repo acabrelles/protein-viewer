{
 "cells": [
  {
   "cell_type": "code",
   "execution_count": 2,
   "metadata": {},
   "outputs": [],
   "source": [
    "from Bio.PDB import *\n",
    "\n",
    "import numpy as np\n",
    "\n",
    "import matplotlib.pyplot as plt\n",
    "from mpl_toolkits.mplot3d import Axes3D"
   ]
  },
  {
   "cell_type": "code",
   "execution_count": 3,
   "metadata": {},
   "outputs": [
    {
     "data": {
      "text/plain": [
       "['__class__',\n",
       " '__contains__',\n",
       " '__delattr__',\n",
       " '__delitem__',\n",
       " '__dict__',\n",
       " '__doc__',\n",
       " '__format__',\n",
       " '__getattribute__',\n",
       " '__getitem__',\n",
       " '__hash__',\n",
       " '__init__',\n",
       " '__iter__',\n",
       " '__len__',\n",
       " '__module__',\n",
       " '__new__',\n",
       " '__reduce__',\n",
       " '__reduce_ex__',\n",
       " '__repr__',\n",
       " '__setattr__',\n",
       " '__sizeof__',\n",
       " '__str__',\n",
       " '__subclasshook__',\n",
       " '__weakref__',\n",
       " '_sort',\n",
       " 'add',\n",
       " 'child_dict',\n",
       " 'child_list',\n",
       " 'copy',\n",
       " 'detach_child',\n",
       " 'detach_parent',\n",
       " 'full_id',\n",
       " 'get_atoms',\n",
       " 'get_chains',\n",
       " 'get_full_id',\n",
       " 'get_id',\n",
       " 'get_iterator',\n",
       " 'get_level',\n",
       " 'get_list',\n",
       " 'get_models',\n",
       " 'get_parent',\n",
       " 'get_residues',\n",
       " 'has_id',\n",
       " 'header',\n",
       " 'id',\n",
       " 'insert',\n",
       " 'level',\n",
       " 'parent',\n",
       " 'set_parent',\n",
       " 'transform',\n",
       " 'xtra']"
      ]
     },
     "execution_count": 3,
     "metadata": {},
     "output_type": "execute_result"
    }
   ],
   "source": [
    "#Desglosamos archivo PDB\n",
    "parser = PDBParser(QUIET=True,PERMISSIVE=True)\n",
    "structure = parser.get_structure('MACROH2A', '1yd9.pdb')\n",
    "\n",
    "\n",
    "#Creamos jerarquía\n",
    "chain_list=Selection.unfold_entities(structure,'C')\n",
    "residue_list=Selection.unfold_entities(chain_list[0], 'R')\n",
    "atom_list=Selection.unfold_entities(residue_list,'A')\n",
    "\n",
    "dir(structure)"
   ]
  },
  {
   "cell_type": "code",
   "execution_count": 4,
   "metadata": {},
   "outputs": [
    {
     "data": {
      "text/plain": [
       "'navy'"
      ]
     },
     "execution_count": 4,
     "metadata": {},
     "output_type": "execute_result"
    }
   ],
   "source": [
    "#Dividimos tipos de aminoácidos\n",
    "Apolar= [\"GLY\",\"ALA\",\"PRO\",\"VAL\",\"LEU\",\"ILE\",\"MET\",\"TRP\",\"PHE\"]\n",
    "Polar= [\"SER\",\"THR\",\"TYR\",\"ASN\",\"GLN\",\"CYS\"]\n",
    "PolarP= [\"LYS\",\"ARG\",\"HIS\"]\n",
    "PolarN= [\"ASP\",\"GLU\"]\n",
    "\n",
    "\n",
    "#Ejemplos para futura selección de color\n",
    "residue = residue_list[7]\n",
    "\n",
    "if residue.get_resname() in Apolar:\n",
    "    color = \"grey\"\n",
    "if residue.get_resname() in Polar:\n",
    "    color = \"khaki\"\n",
    "if residue.get_resname() in PolarP:\n",
    "    color = \"navy\"\n",
    "if residue.get_resname() in PolarN:\n",
    "    color = \"maroon\"\n",
    "    \n",
    "color"
   ]
  },
  {
   "cell_type": "code",
   "execution_count": 11,
   "metadata": {},
   "outputs": [
    {
     "ename": "AttributeError",
     "evalue": "'Residue' object has no attribute 'get_atoms'",
     "output_type": "error",
     "traceback": [
      "\u001b[0;31m---------------------------------------------------------------------------\u001b[0m",
      "\u001b[0;31mAttributeError\u001b[0m                            Traceback (most recent call last)",
      "\u001b[0;32m<ipython-input-11-5b586bf33d3a>\u001b[0m in \u001b[0;36m<module>\u001b[0;34m()\u001b[0m\n\u001b[1;32m      3\u001b[0m \u001b[0mresidue_list\u001b[0m\u001b[0;34m[\u001b[0m\u001b[0;36m1\u001b[0m\u001b[0;34m]\u001b[0m\u001b[0;34m.\u001b[0m\u001b[0mget_resname\u001b[0m\u001b[0;34m(\u001b[0m\u001b[0;34m)\u001b[0m\u001b[0;34m\u001b[0m\u001b[0m\n\u001b[1;32m      4\u001b[0m \u001b[0mSelection\u001b[0m\u001b[0;34m.\u001b[0m\u001b[0munfold_entities\u001b[0m\u001b[0;34m(\u001b[0m\u001b[0mresidue_list\u001b[0m\u001b[0;34m[\u001b[0m\u001b[0;36m1\u001b[0m\u001b[0;34m]\u001b[0m\u001b[0;34m,\u001b[0m\u001b[0;34m'A'\u001b[0m\u001b[0;34m)\u001b[0m\u001b[0;34m\u001b[0m\u001b[0m\n\u001b[0;32m----> 5\u001b[0;31m \u001b[0mresidue_list\u001b[0m\u001b[0;34m[\u001b[0m\u001b[0;36m1\u001b[0m\u001b[0;34m]\u001b[0m\u001b[0;34m.\u001b[0m\u001b[0mget_atoms\u001b[0m\u001b[0;34m(\u001b[0m\u001b[0;34m)\u001b[0m\u001b[0;34m\u001b[0m\u001b[0m\n\u001b[0m",
      "\u001b[0;31mAttributeError\u001b[0m: 'Residue' object has no attribute 'get_atoms'"
     ]
    }
   ],
   "source": [
    "#Ejemplo de selección de átomo por residuo\n",
    "dir(residue_list[1])\n",
    "residue_list[1].get_resname()\n",
    "Selection.unfold_entities(residue_list[1],'A')\n",
    "residue_list[1].get_atoms()"
   ]
  },
  {
   "cell_type": "code",
   "execution_count": 96,
   "metadata": {},
   "outputs": [
    {
     "ename": "ValueError",
     "evalue": "need more than 0 values to unpack",
     "output_type": "error",
     "traceback": [
      "\u001b[0;31m---------------------------------------------------------------------------\u001b[0m",
      "\u001b[0;31mValueError\u001b[0m                                Traceback (most recent call last)",
      "\u001b[0;32m<ipython-input-96-ab278f59545a>\u001b[0m in \u001b[0;36m<module>\u001b[0;34m()\u001b[0m\n\u001b[1;32m      4\u001b[0m     \u001b[0matoms\u001b[0m\u001b[0;34m=\u001b[0m \u001b[0;34m[\u001b[0m\u001b[0matom\u001b[0m \u001b[0;32mfor\u001b[0m \u001b[0matom\u001b[0m \u001b[0;32min\u001b[0m \u001b[0mSelection\u001b[0m\u001b[0;34m.\u001b[0m\u001b[0munfold_entities\u001b[0m\u001b[0;34m(\u001b[0m\u001b[0mresidue\u001b[0m\u001b[0;34m,\u001b[0m\u001b[0;34m'A'\u001b[0m\u001b[0;34m)\u001b[0m \u001b[0;32mif\u001b[0m \u001b[0matom\u001b[0m\u001b[0;34m.\u001b[0m\u001b[0mid\u001b[0m \u001b[0;34m==\u001b[0m \u001b[0;34m'CA'\u001b[0m \u001b[0;32mor\u001b[0m \u001b[0matom\u001b[0m\u001b[0;34m.\u001b[0m\u001b[0mid\u001b[0m \u001b[0;34m==\u001b[0m \u001b[0;34m'N'\u001b[0m\u001b[0;34m]\u001b[0m\u001b[0;34m\u001b[0m\u001b[0m\n\u001b[1;32m      5\u001b[0m     \u001b[0mcoordinates\u001b[0m \u001b[0;34m=\u001b[0m \u001b[0;34m[\u001b[0m\u001b[0matom\u001b[0m\u001b[0;34m.\u001b[0m\u001b[0mget_vector\u001b[0m\u001b[0;34m(\u001b[0m\u001b[0;34m)\u001b[0m \u001b[0;32mfor\u001b[0m \u001b[0matom\u001b[0m \u001b[0;32min\u001b[0m \u001b[0matoms\u001b[0m\u001b[0;34m]\u001b[0m\u001b[0;34m\u001b[0m\u001b[0m\n\u001b[0;32m----> 6\u001b[0;31m     \u001b[0mx\u001b[0m\u001b[0;34m,\u001b[0m\u001b[0my\u001b[0m\u001b[0;34m,\u001b[0m\u001b[0mz\u001b[0m\u001b[0;34m=\u001b[0m\u001b[0mzip\u001b[0m\u001b[0;34m(\u001b[0m\u001b[0;34m*\u001b[0m\u001b[0mcoordinates\u001b[0m\u001b[0;34m)\u001b[0m\u001b[0;34m\u001b[0m\u001b[0m\n\u001b[0m\u001b[1;32m      7\u001b[0m \u001b[0;34m\u001b[0m\u001b[0m\n\u001b[1;32m      8\u001b[0m     \u001b[0;32mif\u001b[0m \u001b[0mresidue\u001b[0m\u001b[0;34m.\u001b[0m\u001b[0mget_resname\u001b[0m\u001b[0;34m(\u001b[0m\u001b[0;34m)\u001b[0m \u001b[0;32min\u001b[0m \u001b[0mApolar\u001b[0m\u001b[0;34m:\u001b[0m\u001b[0;34m\u001b[0m\u001b[0m\n",
      "\u001b[0;31mValueError\u001b[0m: need more than 0 values to unpack"
     ]
    }
   ],
   "source": [
    "fig = plt.figure()\n",
    "ax = fig.add_subplot(111, projection='3d')\n",
    "for residue in residue_list:\n",
    "    atoms= [atom for atom in Selection.unfold_entities(residue,'A') if atom.id == 'CA' or atom.id == 'N']\n",
    "    coordinates = [atom.get_vector() for atom in atoms]\n",
    "    x,y,z=zip(*coordinates)\n",
    "    if residue.get_resname() in Apolar:\n",
    "        color = \"grey\"\n",
    "    if residue.get_resname() in Polar:\n",
    "        color = \"khaki\"\n",
    "    if residue.get_resname() in PolarP:\n",
    "        color = \"navy\"\n",
    "    if residue.get_resname() in PolarN:\n",
    "        color = \"maroon\"\n",
    "    ax.plot(x,y,z, c=color, linewidth=3)\n",
    "        "
   ]
  }
 ],
 "metadata": {
  "kernelspec": {
   "display_name": "Python 2",
   "language": "python",
   "name": "python2"
  },
  "language_info": {
   "codemirror_mode": {
    "name": "ipython",
    "version": 2
   },
   "file_extension": ".py",
   "mimetype": "text/x-python",
   "name": "python",
   "nbconvert_exporter": "python",
   "pygments_lexer": "ipython2",
   "version": "2.7.12"
  }
 },
 "nbformat": 4,
 "nbformat_minor": 2
}
