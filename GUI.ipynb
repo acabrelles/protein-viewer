{
 "cells": [
  {
   "cell_type": "code",
   "execution_count": 107,
   "metadata": {},
   "outputs": [],
   "source": [
    "from Tkinter import *\n",
    "import tkFileDialog\n",
    "\n",
    "class App:\n",
    "    \n",
    "    def __init__(self, master):\n",
    "\n",
    "        frame = Frame(master)\n",
    "        frame.pack()\n",
    "\n",
    "        #enter archive\n",
    "        self.folder_path = StringVar()\n",
    "        self.browseb = Button(frame, text=\"Browse\", command=self.browse_button).grid(row=0,column=0)\n",
    "        self.pathlabel = Label(frame, textvariable=self.folder_path).grid(row=0,column=1)\n",
    "\n",
    "        #library choice\n",
    "        \n",
    "        self.ltype = StringVar()\n",
    "        self.ltype.set(\"L\")\n",
    "        \n",
    "        self.lib1 = Radiobutton(frame, text=\"MatPlot\", variable=self.ltype, value=\"matplot\").grid(row=1,column=0,sticky=W)\n",
    "        self.lib2 = Radiobutton(frame, text=\"VisPy\", variable=self.ltype, value=\"vispy\").grid(row=1,column=1,sticky=W)\n",
    "            \n",
    "        #visualization type\n",
    "        self.vtype = StringVar()\n",
    "        self.vtype.set(\"L\")\n",
    "        \n",
    "        self.vis1 = Radiobutton(frame, text=\"CPK\", variable=self.vtype, value=\"cpk\").grid(row=2,column=0,sticky=W)\n",
    "        self.vis2 = Radiobutton(frame, text=\"Residue type\", variable=self.vtype, value=\"aminoacid\").grid(row=2,column=1,sticky=W)\n",
    "        self.vis3 = Radiobutton(frame, text=\"Chains\", variable=self.vtype, value=\"backbone\").grid(row=3,column=0,sticky=W)\n",
    "        self.vis4 = Radiobutton(frame, text=\"DSSP Prediction\", variable=self.vtype, value=\"dssp\").grid(row=3,column=1,sticky=W)\n",
    "        \n",
    "        #Run button\n",
    "        \n",
    "        \n",
    "        #Browse button function\n",
    "    def browse_button(self):\n",
    "        self.folder_path = StringVar()\n",
    "        self.filename = tkFileDialog.askopenfilename(filetypes = ((\"pdb files\",\"*.pdb\"),(\"all files\",\"*.*\")), title='Select your PDB file')\n",
    "        self.folder_path.set(self.filename)\n",
    "\n",
    "root = Tk()\n",
    "root.title(\"Protein Viewer\")\n",
    "\n",
    "app = App(root)\n",
    "\n",
    "root.mainloop()"
   ]
  },
  {
   "cell_type": "code",
   "execution_count": 65,
   "metadata": {},
   "outputs": [],
   "source": [
    "from Tkinter import *\n",
    "import tkFileDialog\n",
    "\n",
    "def browse_button():\n",
    "    # Allow user to select a directory and store it in global var\n",
    "    # called folder_path\n",
    "    global folder_path\n",
    "    filename = tkFileDialog.askdirectory()\n",
    "    folder_path.set(filename)\n",
    "\n",
    "\n",
    "root = Tk()\n",
    "folder_path = StringVar()\n",
    "lbl1 = Label(master=root,textvariable=folder_path)\n",
    "lbl1.grid(row=0, column=1)\n",
    "button2 = Button(text=\"Browse\", command=browse_button)\n",
    "button2.grid(row=0, column=3)\n",
    "\n",
    "mainloop()"
   ]
  }
 ],
 "metadata": {
  "kernelspec": {
   "display_name": "Python 2",
   "language": "python",
   "name": "python2"
  },
  "language_info": {
   "codemirror_mode": {
    "name": "ipython",
    "version": 2
   },
   "file_extension": ".py",
   "mimetype": "text/x-python",
   "name": "python",
   "nbconvert_exporter": "python",
   "pygments_lexer": "ipython2",
   "version": "2.7.12"
  }
 },
 "nbformat": 4,
 "nbformat_minor": 2
}
