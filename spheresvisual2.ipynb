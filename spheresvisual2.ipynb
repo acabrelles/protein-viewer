{
 "cells": [
  {
   "cell_type": "code",
   "execution_count": 3,
   "metadata": {},
   "outputs": [],
   "source": [
    "from vispy import app, gloo, visuals, scene\n",
    "\n",
    "from vispy.util.transforms import perspective, translate\n",
    "\n",
    "import numpy as np"
   ]
  },
  {
   "cell_type": "code",
   "execution_count": 4,
   "metadata": {},
   "outputs": [],
   "source": [
    "vertex = \"\"\"\n",
    "\n",
    "varying vec4  v_eye_position;\n",
    "varying vec3  v_light_direction;\n",
    "\n",
    "void main (void) {\n",
    "    v_eye_position = $view * $model * vec4($position,1.0);\n",
    "    v_light_direction = normalize($light_position);\n",
    "    float dist = length(v_eye_position.xyz);\n",
    "\n",
    "    gl_Position = $transform($projection * v_eye_position);\n",
    "\n",
    "    vec4  proj_corner = $projection * vec4($radius, $radius, v_eye_position.z, v_eye_position.w);  // # noqa\n",
    "    gl_PointSize = 512.0 * proj_corner.x / proj_corner.w;\n",
    "}\n",
    "\"\"\"\n",
    "\n",
    "fragment = \"\"\"\n",
    "\n",
    "varying vec4  v_eye_position;\n",
    "varying vec3  v_light_direction;\n",
    "void main()\n",
    "{\n",
    "    vec2 texcoord = gl_PointCoord* 2.0 - vec2(1.0);\n",
    "    float x = texcoord.x;\n",
    "    float y = texcoord.y;\n",
    "    float d = 1.0 - x*x - y*y;\n",
    "    if (d <= 0.0)\n",
    "        discard;\n",
    "\n",
    "    float z = sqrt(d);\n",
    "    vec4 pos = v_eye_position;\n",
    "    pos.z += $radius*z;\n",
    "    vec3 pos2 = pos.xyz;\n",
    "    pos = $projection * pos;\n",
    "    // gl_FragDepth = 0.5*(pos.z / pos.w)+0.5;\n",
    "    vec3 normal = vec3(x,y,z);\n",
    "    float diffuse = clamp(dot(normal, v_light_direction), 0.0, 1.0);\n",
    "\n",
    "    // Specular lighting.\n",
    "    vec3 M = pos2.xyz;\n",
    "    vec3 O = v_eye_position.xyz;\n",
    "    vec3 L = $light_spec_position;\n",
    "    vec3 K = normalize(normalize(L - M) + normalize(O - M));\n",
    "    // WARNING: abs() is necessary, otherwise weird bugs may appear with some\n",
    "    // GPU drivers...\n",
    "    float specular = clamp(pow(abs(dot(normal, K)), 40.), 0.0, 1.0);\n",
    "    vec3 v_light = vec3(1., 1., 1.);\n",
    "    gl_FragColor.rgb = (.15*$color + .55*diffuse * $color\n",
    "                        + .35*specular * v_light);\n",
    "}\n",
    "\"\"\""
   ]
  },
  {
   "cell_type": "code",
   "execution_count": 5,
   "metadata": {},
   "outputs": [],
   "source": [
    "class MySpheresVisual(visuals.Visual):\n",
    "    \"\"\"Visual that draws a 3d plot\n",
    "    \n",
    "    Parameters\n",
    "    ----------\n",
    "    position: array of coordinates\n",
    "    color: array of colors\n",
    "    radius: array of radius\n",
    "    W: width of canvas\n",
    "    H: height of canvas\n",
    "    \"\"\"\n",
    "    def __init__(self, coordinate, color, radius, W, H):\n",
    "        visuals.Visual.__init__(self, vertex, fragment)\n",
    "        \n",
    "        self.size = W,H\n",
    "        #Camera settings\n",
    "        self.translate = 120\n",
    "        self.view = translate((0,0, -self.translate), dtype=np.float32)\n",
    "        self.model = np.eye(4, dtype=np.float32)\n",
    "        self.projection = perspective(45.0, self.size[0] / float(self.size[1]), 1.0, 1000.0)\n",
    "        \n",
    "        self.shared_program.vert['model'] = self.model\n",
    "        self.shared_program.vert['view'] = self.view\n",
    "        self.shared_program.vert['projection'] = self.projection\n",
    "        self.shared_program.frag['projection'] = self.projection\n",
    "       \n",
    "        self.shared_program.vert['light_position'] = 0., 0., 2.\n",
    "        self.shared_program.frag['light_spec_position'] = -5., 5., -5.\n",
    "        \n",
    "        self.shared_program.vert['position'] = coordinate\n",
    "        self.shared_program.vert['radius'] = radius\n",
    "        self.shared_program.frag['radius'] = radius\n",
    "        self.shared_program.frag['color'] = color\n",
    "        \n",
    "        self._draw_mode = 'points'\n",
    "        \n",
    "    def _prepare_transforms(self,view):\n",
    "        view.view_program.vert['transform'] = view.get_transform()"
   ]
  },
  {
   "cell_type": "code",
   "execution_count": 6,
   "metadata": {},
   "outputs": [],
   "source": [
    "from Bio.PDB import PDBParser,DSSP\n",
    "\n",
    "from molecular_data import crgbaDSSP, restype, colorrgba, vrad, resdict"
   ]
  },
  {
   "cell_type": "code",
   "execution_count": 7,
   "metadata": {},
   "outputs": [],
   "source": [
    "pdbdata = 'data/1yd9.pdb'\n",
    "parser = PDBParser(QUIET=True, PERMISSIVE=True)\n",
    "structure = parser.get_structure('model',pdbdata)\n",
    "\n",
    "def centroid(arr):\n",
    "    length = arr.shape[0]\n",
    "    sum_x = np.sum(arr[:, 0])\n",
    "    sum_y = np.sum(arr[:, 1])\n",
    "    sum_z = np.sum(arr[:, 2])\n",
    "    return sum_x/length, sum_y/length, sum_z/length\n",
    "\n",
    "atoms = [atom for atom in structure.get_atoms()]\n",
    "natoms = len(atoms)\n",
    "#atom coordinates\n",
    "coordinates = np.array([atom.coord for atom in atoms])\n",
    "center = centroid(coordinates)\n",
    "coordinates -= center\n",
    "#atom color\n",
    "color = [colorrgba(atom.get_id()) for atom in atoms]\n",
    "#atom radius\n",
    "radius = [vrad(atom.get_id()) for atom in atoms]\n",
    "\n",
    "W,H = 1200, 800"
   ]
  },
  {
   "cell_type": "code",
   "execution_count": 1,
   "metadata": {},
   "outputs": [
    {
     "ename": "NameError",
     "evalue": "name 'scene' is not defined",
     "output_type": "error",
     "traceback": [
      "\u001b[0;31m---------------------------------------------------------------------------\u001b[0m",
      "\u001b[0;31mNameError\u001b[0m                                 Traceback (most recent call last)",
      "\u001b[0;32m<ipython-input-1-6d15599159bc>\u001b[0m in \u001b[0;36m<module>\u001b[0;34m()\u001b[0m\n\u001b[0;32m----> 1\u001b[0;31m \u001b[0mMySpheres\u001b[0m \u001b[0;34m=\u001b[0m \u001b[0mscene\u001b[0m\u001b[0;34m.\u001b[0m\u001b[0mvisuals\u001b[0m\u001b[0;34m.\u001b[0m\u001b[0mcreate_visual_node\u001b[0m\u001b[0;34m(\u001b[0m\u001b[0mMySpheresVisual\u001b[0m\u001b[0;34m)\u001b[0m\u001b[0;34m\u001b[0m\u001b[0m\n\u001b[0m\u001b[1;32m      2\u001b[0m \u001b[0;34m\u001b[0m\u001b[0m\n\u001b[1;32m      3\u001b[0m \u001b[0mcanvas\u001b[0m \u001b[0;34m=\u001b[0m \u001b[0mscene\u001b[0m\u001b[0;34m.\u001b[0m\u001b[0mSceneCanvas\u001b[0m\u001b[0;34m(\u001b[0m\u001b[0mkeys\u001b[0m\u001b[0;34m=\u001b[0m\u001b[0;34m'interactive'\u001b[0m\u001b[0;34m,\u001b[0m\u001b[0mshow\u001b[0m\u001b[0;34m=\u001b[0m\u001b[0mTrue\u001b[0m\u001b[0;34m)\u001b[0m\u001b[0;34m\u001b[0m\u001b[0m\n\u001b[1;32m      4\u001b[0m \u001b[0;34m\u001b[0m\u001b[0m\n\u001b[1;32m      5\u001b[0m \u001b[0mview\u001b[0m \u001b[0;34m=\u001b[0m \u001b[0mcanvas\u001b[0m\u001b[0;34m.\u001b[0m\u001b[0mcentral_widget_add_view\u001b[0m\u001b[0;34m(\u001b[0m\u001b[0;34m)\u001b[0m\u001b[0;34m\u001b[0m\u001b[0m\n",
      "\u001b[0;31mNameError\u001b[0m: name 'scene' is not defined"
     ]
    }
   ],
   "source": [
    "MySpheres = scene.visuals.create_visual_node(MySpheresVisual)\n",
    "\n",
    "canvas = scene.SceneCanvas(keys='interactive',show=True)\n",
    "\n",
    "view = canvas.central_widget.add_view()\n",
    "view.camera='arcball'\n",
    "\n",
    "spheres = [MySpheres(coordinates[0],color[0],radius[0],W,H, parent=canvas.scene)]"
   ]
  }
 ],
 "metadata": {
  "kernelspec": {
   "display_name": "Python 2",
   "language": "python",
   "name": "python2"
  },
  "language_info": {
   "codemirror_mode": {
    "name": "ipython",
    "version": 2
   },
   "file_extension": ".py",
   "mimetype": "text/x-python",
   "name": "python",
   "nbconvert_exporter": "python",
   "pygments_lexer": "ipython2",
   "version": "2.7.12"
  }
 },
 "nbformat": 4,
 "nbformat_minor": 2
}
