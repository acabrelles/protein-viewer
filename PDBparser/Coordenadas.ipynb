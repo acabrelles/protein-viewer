{
 "cells": [
  {
   "cell_type": "markdown",
   "metadata": {},
   "source": [
    "Aprovecho la librería biopython para extraer las coordenadas del archivo PDB descargado. También la exploro un poco para ver cómo podría utilizarla. Utilizando la guía: http://biopython.org/DIST/docs/cookbook/biopdb_faq.pdf\n",
    "\n",
    "Solo usaré una cadena para hacer las representaciones de momento ya que la selección la hará el usuario para la siguiente PEC.\n",
    "\n",
    "Pasos que tendré que hacer por representación:\n",
    "1. Selección de cadena\n",
    "\n",
    "2. Selección de átomos a representar según modelo. Por ejemplo, solo me interesan los CA y N para hacer la estructure backbone principal\n",
    " \n",
    "3. Seleccionar su vectores\n",
    "\n",
    "4. Si es posible, cambiar los colores por tipos de átomo o por tipo de estructura, según el tipo de representación.\n",
    "\n",
    "Pasos que tendré que hacer para la PEC3:\n",
    "1. Instrucción para selección de archivo\n",
    "\n",
    "2. Instrucción para selección de cadena\n",
    "\n",
    "3. Instrucción para selección de tipo de representación\n",
    "\n",
    "4. Instrucción para selección de librería\n",
    "\n",
    "5. Si es posible, instrucción para cambiar los colores según necesidad."
   ]
  },
  {
   "cell_type": "code",
   "execution_count": 5,
   "metadata": {},
   "outputs": [],
   "source": [
    "#importamos la librería y usamos el parser\n",
    "from Bio.PDB import *\n",
    "\n",
    "parser = PDBParser()\n",
    "structure = parser.get_structure('MACROH2A', '1yd9.pdb')"
   ]
  },
  {
   "cell_type": "code",
   "execution_count": 18,
   "metadata": {
    "scrolled": true
   },
   "outputs": [],
   "source": [
    "#creamos las listas de cadenas, residuos y átomos\n",
    "chain_list=Selection.unfold_entities(structure,'C')\n",
    "residue_list=Selection.unfold_entities(chain_list[0], 'R')\n",
    "atom_list=Selection.unfold_entities(residue_list,'A')"
   ]
  },
  {
   "cell_type": "code",
   "execution_count": 22,
   "metadata": {},
   "outputs": [
    {
     "data": {
      "text/plain": [
       "['__class__',\n",
       " '__delattr__',\n",
       " '__dict__',\n",
       " '__doc__',\n",
       " '__format__',\n",
       " '__getattribute__',\n",
       " '__hash__',\n",
       " '__init__',\n",
       " '__module__',\n",
       " '__new__',\n",
       " '__reduce__',\n",
       " '__reduce_ex__',\n",
       " '__repr__',\n",
       " '__setattr__',\n",
       " '__sizeof__',\n",
       " '__str__',\n",
       " '__sub__',\n",
       " '__subclasshook__',\n",
       " '__weakref__',\n",
       " '_assign_atom_mass',\n",
       " '_assign_element',\n",
       " 'altloc',\n",
       " 'anisou_array',\n",
       " 'bfactor',\n",
       " 'coord',\n",
       " 'copy',\n",
       " 'detach_parent',\n",
       " 'disordered_flag',\n",
       " 'element',\n",
       " 'flag_disorder',\n",
       " 'full_id',\n",
       " 'fullname',\n",
       " 'get_altloc',\n",
       " 'get_anisou',\n",
       " 'get_bfactor',\n",
       " 'get_coord',\n",
       " 'get_full_id',\n",
       " 'get_fullname',\n",
       " 'get_id',\n",
       " 'get_level',\n",
       " 'get_name',\n",
       " 'get_occupancy',\n",
       " 'get_parent',\n",
       " 'get_serial_number',\n",
       " 'get_sigatm',\n",
       " 'get_siguij',\n",
       " 'get_vector',\n",
       " 'id',\n",
       " 'is_disordered',\n",
       " 'level',\n",
       " 'mass',\n",
       " 'name',\n",
       " 'occupancy',\n",
       " 'parent',\n",
       " 'serial_number',\n",
       " 'set_altloc',\n",
       " 'set_anisou',\n",
       " 'set_bfactor',\n",
       " 'set_coord',\n",
       " 'set_occupancy',\n",
       " 'set_parent',\n",
       " 'set_serial_number',\n",
       " 'set_sigatm',\n",
       " 'set_siguij',\n",
       " 'sigatm_array',\n",
       " 'siguij_array',\n",
       " 'transform',\n",
       " 'xtra']"
      ]
     },
     "execution_count": 22,
     "metadata": {},
     "output_type": "execute_result"
    }
   ],
   "source": [
    "#miramos todas las instrucciones que podemos hacer por átomo\n",
    "dir(atom_list[0])\n"
   ]
  },
  {
   "cell_type": "code",
   "execution_count": 41,
   "metadata": {},
   "outputs": [
    {
     "data": {
      "text/plain": [
       "22.97"
      ]
     },
     "execution_count": 41,
     "metadata": {},
     "output_type": "execute_result"
    }
   ],
   "source": [
    "atom_list[78].bfactor"
   ]
  },
  {
   "cell_type": "code",
   "execution_count": 110,
   "metadata": {},
   "outputs": [],
   "source": [
    "#Conseguimos la lista de coordenadas\n",
    "coord=[]\n",
    "for atom in atom_list:\n",
    "    coord.append(atom.get_vector())"
   ]
  },
  {
   "cell_type": "code",
   "execution_count": 50,
   "metadata": {},
   "outputs": [],
   "source": [
    "# Creamos cadena polipeptídica C-N para ver lo que representaríamos\n",
    "ppb=PPBuilder()\n",
    "for pp in ppb.build_peptides(chain_list[0]):\n",
    "    seq=pp.get_sequence()"
   ]
  },
  {
   "cell_type": "code",
   "execution_count": 65,
   "metadata": {},
   "outputs": [
    {
     "data": {
      "text/plain": [
       "'CA'"
      ]
     },
     "execution_count": 65,
     "metadata": {},
     "output_type": "execute_result"
    }
   ],
   "source": [
    "atom_list[1].id"
   ]
  }
 ],
 "metadata": {
  "kernelspec": {
   "display_name": "Python 2",
   "language": "python",
   "name": "python2"
  },
  "language_info": {
   "codemirror_mode": {
    "name": "ipython",
    "version": 2
   },
   "file_extension": ".py",
   "mimetype": "text/x-python",
   "name": "python",
   "nbconvert_exporter": "python",
   "pygments_lexer": "ipython2",
   "version": "2.7.12"
  }
 },
 "nbformat": 4,
 "nbformat_minor": 2
}
